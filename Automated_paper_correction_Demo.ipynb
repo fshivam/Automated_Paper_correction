{
  "nbformat": 4,
  "nbformat_minor": 0,
  "metadata": {
    "colab": {
      "name": "Automated_paper_correction_Demo.ipynb",
      "provenance": [],
      "collapsed_sections": [],
      "toc_visible": true,
      "include_colab_link": true
    },
    "kernelspec": {
      "name": "python3",
      "display_name": "Python 3"
    },
    "accelerator": "GPU"
  },
  "cells": [
    {
      "cell_type": "markdown",
      "metadata": {
        "id": "view-in-github",
        "colab_type": "text"
      },
      "source": [
        "<a href=\"https://colab.research.google.com/github/fshivam/Automated_Paper_correction/blob/master/Automated_paper_correction_Demo.ipynb\" target=\"_parent\"><img src=\"https://colab.research.google.com/assets/colab-badge.svg\" alt=\"Open In Colab\"/></a>"
      ]
    },
    {
      "cell_type": "code",
      "metadata": {
        "id": "YJIQ-26N2KEi",
        "colab_type": "code",
        "colab": {}
      },
      "source": [
        "%%capture\n",
        "# Install the latest Tensorflow version.\n",
        "#!pip3 install --upgrade tensorflow-gpu\n",
        "# Install TF-Hub.\n",
        "#!pip3 install tensorflow-hub\n",
        "!pip3 install seaborn\n",
        "!pip3 install fpdf==1.7.2"
      ],
      "execution_count": null,
      "outputs": []
    },
    {
      "cell_type": "markdown",
      "metadata": {
        "id": "2hY1fNJDBQkG",
        "colab_type": "text"
      },
      "source": [
        "**Loading all the essential libraries and the Universal Sentence Encoder**"
      ]
    },
    {
      "cell_type": "code",
      "metadata": {
        "id": "7DxRxWN02NEG",
        "colab_type": "code",
        "colab": {
          "base_uri": "https://localhost:8080/",
          "height": 32
        },
        "outputId": "c6844d16-7a15-4232-a70c-751a0e438bef"
      },
      "source": [
        "#@title Load the Universal Sentence Encoder's TF Hub module\n",
        "from absl import logging\n",
        "%tensorflow_version 2.x\n",
        "import tensorflow as tf\n",
        "import tensorflow_hub as hub\n",
        "import matplotlib.pyplot as plt\n",
        "import numpy as np\n",
        "import os\n",
        "import pandas as pd\n",
        "import re\n",
        "import seaborn as sns\n",
        "import time\n",
        "import pandas as pd\n",
        "import matplotlib.pyplot as plt\n",
        "\n",
        "module_url = \"https://tfhub.dev/google/universal-sentence-encoder-large/5\" #@param [\"https://tfhub.dev/google/universal-sentence-encoder/4\", \"https://tfhub.dev/google/universal-sentence-encoder-large/5\"]\n",
        "model = hub.load(module_url)\n",
        "print (\"module %s loaded\" % module_url)\n",
        "def embed(input):\n",
        "  return model(input)"
      ],
      "execution_count": null,
      "outputs": [
        {
          "output_type": "stream",
          "text": [
            "module https://tfhub.dev/google/universal-sentence-encoder-large/5 loaded\n"
          ],
          "name": "stdout"
        }
      ]
    },
    {
      "cell_type": "markdown",
      "metadata": {
        "id": "8V1B2DUmAXMR",
        "colab_type": "text"
      },
      "source": [
        "**The Sample Answer Key is as follows:**\n",
        "\n",
        "\n",
        "\"The issue of extending political rights to women was a controversial one within the liberal movement, in which large numbers of women had participated actively over the years. Women had formed their own political associations, founded newspapers and taken part in political meetings and demonstrations. Despite this, they were denied suffrage during the election of the Assembly. When the Frankfurt Parliament convened in the Church of St. Paul, women were admitted only as observers to stand in the visitors’ gallery.\" \n",
        "\n",
        "\n",
        "\n",
        "---\n",
        "\n",
        "\n",
        "**The above answer key consists of *four* points**\n",
        "\n",
        "\n",
        "But the number of points may not always be equal. For example, a student may split one point in two or combine two points in one or he may miss some points altogether. \n",
        "\n",
        "So for this demo, we'll consider the following two variations:\n",
        "\n",
        "\n",
        "\n",
        "---\n",
        "\n",
        "\n",
        "\n",
        "**The Sample Student Answer 1 is as follows:**\n",
        "\n",
        "\n",
        "In Post-Medivial Germany, women were still largely thought of as nurturers. Consequently, the issue of extending political rights to women was a controversial one within the liberal movement. A large number of women had participated in the liberal movement over the years. In fact, women had formed their own political associations, founded newspapers and taken part in political meetings. They even participated in various political demonstrations. But despite this, they were denied voting rights during the election of Assembly. When the Frankfurt parliament convened in Church of St. Paul, women were only admitted as observers. \n",
        "\n",
        "**The above student answer consists of *seven* points**\n",
        "\n",
        "\n",
        "\n",
        "---\n",
        "\n",
        "\n",
        "\n",
        "**The Sample Student Answer 2 is as follows:**\n",
        "\n",
        "\"Many woman participated in the issue of demanding basic rights such as voting which was deemed controversial. But women had already formed their own political associations and even founded newspapers. Inspite of all this involvement, they were still denied voting rights.\"\n",
        "\n",
        "\n",
        "**The above student answer consists of *three* points**\n",
        "\n"
      ]
    },
    {
      "cell_type": "code",
      "metadata": {
        "id": "gTANrAHW2Ort",
        "colab_type": "code",
        "colab": {}
      },
      "source": [
        "# Define the sample answer key.\n",
        "answer_key = ['The issue of extending political rights to women was a controversial one within the liberal movement, in which large numbers of women had participated actively over the years. Women had formed their own political associations, founded newspapers and taken part in political meetings and demonstrations. Despite this, they were denied suffrage during the election of the Assembly. When the Frankfurt Parliament convened in the Church of St. Paul, women were admitted only as observers to stand in the visitors’ gallery.']\n",
        "answer_key2 = ['Two examples to show the contribution of culture to the growth of nationalism in Europe were: 1. Romanticism was a European cultural movement aimed at developing national unity by creating a sense of shared heritage and common history. The Romantic artists emphasis on emotions, intuition and mystical feelings gave shape and expression to nationalist sentiments. The strength of art in promoting nationalism is well exemplified in the role played by European poets and artists in mobilising public opinion to support the Greeks in their struggle to establish their national identity. 2.  Language also played a distinctive role in developing nationalist feelings in Europe. An example of this is how during Russian occupation, the use of Polish came to be seen as a symbol of struggle against Russian dominance. During this period, Polish language was forced out of schools and Russian language was imposed everywhere. Following the defeat of an armed rebellion against Russian rule in 1831, many members of the clergy in Poland began using language as a weapon of national resistance. They did so by refusing to preach in Russian, and by using Polish for Church gatherings and religious instruction. The emphasis on the use of vernacular language, the language of the masses, helped spread the message of national unity.']\n",
        "answerkey_3 = ['Nationalist tensions .emerged in  . the Balkans because of the .spread of ideas of.. romantic nationalism as also the disintegration of the Ottoman Empire that had previously ruled over this area. The different Slavic communities in the Balkans began to strive for independent rule. They were jealous of each other and every state wanted more territory, even at the expense of others. Also, the hold of imperial power over the Balkans made the situation worse. Russia, Germany, England, Austro-Hungary all wanted more control over this area. These conflicts ultimately led to the First World War in 1914.']\n",
        "# Define the variations that we'll be testing out for. \n",
        "\n",
        "variation_1 = ['Large numbers of women had participated actively over the years in the issue of demanding political rights such as voting. Although this was controversial, women had formed their political associations, founded newspapers and taken part in meetings. But they were still denied voting rights.']\n",
        "variation_2 = ['Many woman participated in the issue of demanding basic rights such as voting which was deemed controversial. But women had already formed their own political associations and even founded newspapers. Inspite of all this involvement, they were still denied voting rights.']\n",
        "variation_3 = ['The issue of extending political rights to women was controversial because at that time women were thought of only as nurturers even though they participated in political meetings, founded newspapers and formed their own political associations. Over time, large number of women had actively participated in the issue of demanding voting and other political rights.']\n",
        "variation_4 = ['In Post-Medivial Germany, women were still largely thought of as nurturers. Consequently, the issue of extending political rights to women was a controversial one within the liberal movement. A large number of women had participated in the liberal movement over the years. In fact, women had formed their own political associations, founded newspapers and taken part in political meetings. They even participated in various political demonstrations. But despite this, they were denied voting rights during the election of Assembly. When the Frankfurt parliament convened in Church of St. Paul, women were only admitted as observers.']\n",
        "variation_6 = ['In post-medivial Germany, women were not considered equal but only as nuruturers. So the issue of giving them voting rights was controversial. Because of this, their participation in the nationalist struggle was limited.']\n",
        "variation_5 = ['The role of women in nationalist struggles was very limited. This was because they were denied voting and other political rights during the election of the assembly. Because of this, their role was limited as mentioned previously inspite of having found newspapers, formed political associations, and even participating in meetings and demonstrations.']\n",
        "variation_7 = [\"Two examples to show the contribution of culture to the growth of nationalism : 1. A primory factor for the growth of nationalism in Europe was Romanticism Romanticism was a European culture movement aimed at developing national unity by creating a sense of shared heritage and common history, The Romantica artist's emphasis on emotions intuition and mystical feelings gave shape and expression to nationalist feelings. 2. Apart from Romanticism, language also played an important role in developing nationalist feeling in Europe. For example, during Russian occupation, the use of Polish was seen as a symbol of struggle against Russions. During this period, Polish language was forced out of schools and Russian was made compulsory everywhere. Mony members of the clerzy started refusing to preach in Russian, and used Polish for church gatherings and other religious activities. This way & use the of Polish helped spread the message of national unity, se on whenua-\"]\n",
        "variation_8 = ['Patriotic strains developed in the Balkans because of the spread of ideas of romantic nationalism as also the breaking down of the Ottoman Empire that had recently administered over this territory. All the different Slavic communities in the Balkans werd envious of one another and cach state wanted more area. Also, the hold of imperial power over the Balkans me worsened the situation. Russia, Germany, England , Asustro-Hungary all wonted more control over this zone which brought about the first world war in 1914.']\n",
        "v9 = [\"Two examples to show the contribution of culture to the growth of nationalism : A primary factor for the growth of nationalism in Europe was Romanticism Romanticism was a European culture. movement aimed at developing national unity by creating a sense of shared heritage and common history The Romantic artist's emphasis on emotions intuition and mystical feelings gave shape and expression to nationalist feelings. 2. Apart from romanticism language also played an important role in developing nationalist feeling in Europe. For example during was seen as a symbol of struggle against russians during this period Polish language was forced out of schools and Russian was made compulsory everywhere Mony members of the clergy started refusing to preach in russian and used Polish for church gathtus. This way there of Polish helped spread the ... message of national unity\"]"
      ],
      "execution_count": null,
      "outputs": []
    },
    {
      "cell_type": "code",
      "metadata": {
        "id": "_oU-Nyit2QjF",
        "colab_type": "code",
        "colab": {
          "base_uri": "https://localhost:8080/",
          "height": 49
        },
        "outputId": "bb55efa6-5421-4853-de55-aa422ebab2d5"
      },
      "source": [
        "# Reduce logging output. \n",
        "logging.set_verbosity(logging.ERROR)\n",
        "\n",
        "# Import nltk \n",
        "import nltk\n",
        "nltk.download('punkt')\n",
        "from nltk.tokenize import TweetTokenizer\n",
        "\n",
        "# Convert the answer into a list of sentences\n",
        "def convert_answers_to_sentences(text):\n",
        "  sent_text = nltk.sent_tokenize(text)\n",
        "  # Return a list of sentences from the passed text\n",
        "  return sent_text \n",
        "\n",
        "\n",
        "# Convert the split sentences into a list words.\n",
        "def convert_sentences_to_words(sent_text):\n",
        "  for sentence in sent_text:\n",
        "    tokenized_text = nltk.word_tokenize(sentence)\n",
        "    tagged = nltk.pos_tag(tokenized_text)\n",
        "    print(tagged)\n",
        "\n",
        "    # tokenizer_words = TweetTokenizer()\n",
        "    # tokens_sentences = [tokenizer_words.tokenize(t) for t in sent_text]\n",
        "    # print(tokens_sentences)\n",
        "    # return tokens_sentences\n",
        "\n",
        "# Convert the answer into a list sentences with words segmented.\n",
        "def convert_answers_to_words(text):\n",
        "  tokenizer_words = TweetTokenizer()\n",
        "  tokens_sentences = [tokenizer_words.tokenize(t) for t in nltk.sent_tokenize(input_text)]\n",
        "  print(tokens_sentences)    \n",
        "  return tokens_sentences\n",
        "\n",
        "\n",
        "def delete_erraneous_sentences(ans_stu_sent):\n",
        "\n",
        "  for idx, sent in enumerate(ans_stu_sent):\n",
        "    if len(sent.split()) == 1:\n",
        "      del(ans_stu_sent[idx])\n",
        "  return ans_stu_sent"
      ],
      "execution_count": null,
      "outputs": [
        {
          "output_type": "stream",
          "text": [
            "[nltk_data] Downloading package punkt to /root/nltk_data...\n",
            "[nltk_data]   Unzipping tokenizers/punkt.zip.\n"
          ],
          "name": "stdout"
        }
      ]
    },
    {
      "cell_type": "code",
      "metadata": {
        "id": "Pa3UYLI82cOn",
        "colab_type": "code",
        "colab": {}
      },
      "source": [
        "# Import cosine similarity evaluation metric\n",
        "\n",
        "from sklearn.metrics.pairwise import cosine_similarity\n",
        "\n",
        "\n",
        "# Calculate embeddings of the sentences in the answer key\n",
        "def get_embeddings(a_list_of_sentences):\n",
        "  sentence_embeddings = []\n",
        "  sentence_embeddings.append(embed(a_list_of_sentences))\n",
        "  return sentence_embeddings\n",
        "\n",
        "\n",
        "# Convert tf.EagerTensor to ndarray \n",
        "def convert_eagertensor_to_ndarray(eagertensor):\n",
        "  ndarray = np.empty((len(eagertensor[0]), 512))\n",
        "  for i in range(len(eagertensor[0])):\n",
        "    ndarray[i,:] = np.asarray(eagertensor[0][i])\n",
        "  return ndarray\n",
        "  \n",
        "\n",
        "\n",
        "# Calculate similarity matrix \n",
        "def get_similarity_matrix(question_paper_embeddings, answer_key_embeddings):\n",
        "  sim_mat = np.empty((len(answer_key_embeddings), len(question_paper_embeddings)))\n",
        "  for ans_sen_number, anskey_embedding in enumerate(answer_key_embeddings):\n",
        "      anskey_embedding = anskey_embedding.reshape(1,-1)\n",
        "      for stu_sen_number, stu_embedding in enumerate(question_paper_embeddings):\n",
        "        stu_embedding = stu_embedding.reshape(1,-1)\n",
        "        sim_mat[ans_sen_number, stu_sen_number] = cosine_similarity(anskey_embedding, stu_embedding)\n",
        "  return sim_mat    \n",
        "\n",
        "# Check number of sentences \n",
        "\n",
        "def check_num_sentences(sentence):\n",
        "  sent = convert_answers_to_sentences(sentence)\n",
        "  return (len(sent))\n"
      ],
      "execution_count": null,
      "outputs": []
    },
    {
      "cell_type": "code",
      "metadata": {
        "id": "Rg2fsB6b2co2",
        "colab_type": "code",
        "colab": {}
      },
      "source": [
        "def interpret_sim_mat_and_generate_report(sim_mat, sim_mat_trans):\n",
        "\n",
        "\n",
        "  # Open a file for dumping text\n",
        "  f = open(\"/tmp/output.txt\", \"a\", encoding='latin-1')\n",
        "\n",
        "  \n",
        "\n",
        "\n",
        "  #print(color.RED + 'x------------------------ Student Feedback Report ------------------------x \\n' + color.END, file=f)\n",
        "  #print('\\n', file=f)\n",
        "  #print('\\n', file=f)\n",
        "\n",
        "\n",
        "\n",
        "  # Feedback\n",
        "  ind = np.argmax(sim_mat, axis=1)\n",
        "  strong_semantic_match = []\n",
        "  loose_semantic_match = []\n",
        "  no_semantic_match = []\n",
        "\n",
        "  \n",
        "  for i in range(len(ind)):\n",
        "    similarity = sim_mat[i][ind[i]]\n",
        "    if similarity < 0.35:\n",
        "      no_semantic_match.append([i,similarity])\n",
        "    elif similarity > 0.35 and similarity <= 0.65:\n",
        "       loose_semantic_match.append([i,similarity])   \n",
        "    else:\n",
        "      strong_semantic_match.append([i,similarity]) \n",
        "  \n",
        "\n",
        "  \n",
        "  print('Student has not written anything covering the following points: \\n', file=f)\n",
        "  print('\\n', file=f)  \n",
        "  if no_semantic_match!=[]: \n",
        "    for i in range(len(no_semantic_match)):  \n",
        "      print(ans_key_sent[no_semantic_match[i][0]], file=f)\n",
        "  elif no_semantic_match==[]:\n",
        "    print('None. All points were adequately covered \\n', file=f)  \n",
        "\n",
        "  print('------------------------------------------------------------------- \\n', file=f)\n",
        "  print('\\n', file=f)  \n",
        "  print('\\n', file=f)\n",
        "    \n",
        "\n",
        "\n",
        "  print('------------------------------------------------------------------- \\n', file=f)\n",
        "  print('Student has loosely touched upon the following points, but a more adequate coverage was expected: \\n', file=f)\n",
        "  print('\\n', file=f)  \n",
        "  \n",
        "  if loose_semantic_match!=[]:\n",
        "    for i in range(len(loose_semantic_match)):  \n",
        "      print(ans_key_sent[loose_semantic_match[i][0]], file=f)\n",
        "  elif loose_semantic_match==[]:\n",
        "    print('None. All points were adequately covered \\n', file=f)  \n",
        "\n",
        "  print('------------------------------------------------------------------- \\n', file=f)\n",
        "  print('\\n', file=f)  \n",
        "  print('\\n', file=f)\n",
        "\n",
        "\n",
        "  print('------------------------------------------------------------------- \\n', file=f)\n",
        "  print('The student has covered the following points perfectly and as per expectation: \\n', file=f)\n",
        "  print('\\n', file=f)  \n",
        "\n",
        "  if strong_semantic_match!=[]:\n",
        "    for i in range(len(strong_semantic_match)):  \n",
        "      print(ans_key_sent[strong_semantic_match[i][0]], file=f)\n",
        "  elif strong_semantic_match==[]:\n",
        "    print('None of the expected points were adequately covered \\n', file=f)  \n",
        "\n",
        "  print('------------------------------------------------------------------- \\n', file=f)\n",
        "  print('\\n', file=f)  \n",
        "  print('\\n', file=f)\n",
        "\n",
        "  # ------- Student point of view --------- # \n",
        "\n",
        "  ind = np.argmax(sim_mat_trans, axis=1)\n",
        "  #print(ind)\n",
        "  no_semantic_match = []\n",
        "  loose_semantic_match = []\n",
        "  strong_semantic_match = []\n",
        "  assigned_weights = {}\n",
        "\n",
        "  for i in range(len(ind)):\n",
        "      similarity = sim_mat_trans[i][ind[i]]\n",
        "      if similarity < 0.35: \n",
        "        no_semantic_match.append([i, similarity])\n",
        "      elif similarity > 0.35 and similarity <= 0.65:\n",
        "        loose_semantic_match.append([i, similarity])\n",
        "      else:\n",
        "        strong_semantic_match.append([i, similarity])\n",
        "          \n",
        "      \n",
        "  print('------------------------------------------------------------------- \\n', file=f)\n",
        "  print('The points that loosely matched the answer key were: \\n', file=f)\n",
        "  print('\\n', file=f)  \n",
        "\n",
        "  if loose_semantic_match!=[]:\n",
        "    for i in range(len(loose_semantic_match)):          \n",
        "      print(ans_stu_sent[loose_semantic_match[i][0]], file=f)\n",
        "      assigned_weights[ans_stu_sent[loose_semantic_match[i][0]]] = loose_semantic_match[i][1]\n",
        "  elif loose_semantic_match==[]:\n",
        "    print('No such sentences \\n', file=f)\n",
        "\n",
        "  print('------------------------------------------------------------------- \\n', file=f)  \n",
        "  print('\\n', file=f)  \n",
        "  print('\\n', file=f)\n",
        "\n",
        "\n",
        "  print('------------------------------------------------------------------- \\n', file=f)\n",
        "  print('The points that strongly matched the answer key were: \\n', file=f)\n",
        "  print('\\n', file=f)  \n",
        "\n",
        "  if strong_semantic_match!=[]:\n",
        "    for i in range(len(strong_semantic_match)):          \n",
        "      print(ans_stu_sent[strong_semantic_match[i][0]], file=f)\n",
        "      assigned_weights[ans_stu_sent[strong_semantic_match[i][0]]] = 1.0\n",
        "  elif strong_semantic_match==[]:\n",
        "    print('No such points \\n', file=f)\n",
        "\n",
        "  print('------------------------------------------------------------------- \\n', file=f)\n",
        "  print('\\n', file=f)  \n",
        "  print('\\n', file=f)\n",
        "\n",
        "\n",
        "  print('------------------------------------------------------------------- \\n', file=f)  \n",
        "  print('The sentences that were extra and did not find a match in the the answer key were: \\n', file=f)\n",
        "  print('\\n', file=f)  \n",
        "  \n",
        "  if no_semantic_match!=[]:\n",
        "    for i in range(len(no_semantic_match)):          \n",
        "      print(ans_stu_sent[no_semantic_match[i][0]], file=f)\n",
        "      assigned_weights[ans_stu_sent[no_semantic_match[i][0]]] = 0.0\n",
        "  elif no_semantic_match==[]:\n",
        "    print('No such sentences \\n', file=f)  \n",
        "\n",
        "  print('------------------------------------------------------------------- \\n', file=f)\n",
        "  print('\\n', file=f)  \n",
        "  print('\\n', file=f)\n",
        "\n",
        "  return assigned_weights, ans_stu_sent, f"
      ],
      "execution_count": null,
      "outputs": []
    },
    {
      "cell_type": "code",
      "metadata": {
        "id": "HU9_QZau2hkS",
        "colab_type": "code",
        "colab": {}
      },
      "source": [
        "# Semantically Normalise Sentences\n",
        "\n",
        "def normalise_sentences(ans_key_sent, ans_stu_sent, sim_mat, sim_mat_trans):\n",
        "  modifications = []\n",
        "  thresh = 0.45\n",
        "  ind = np.argmax(sim_mat, axis=1)\n",
        "  ind_trans = np.argmax(sim_mat_trans, axis=1)\n",
        "  print(ind_trans)\n",
        "  for i in range(len(ind)):\n",
        "    similarity = sim_mat[i][ind[i]]\n",
        "    if similarity>=0.35:\n",
        "      new_similarity = similarity*thresh \n",
        "      for idx, j in enumerate(sim_mat[i]):\n",
        "        if j>= new_similarity and j<similarity:\n",
        "          if j==sim_mat_trans[idx][ind_trans[idx]]:\n",
        "            modifications.append([i, idx, j, ind[i], ans_stu_sent[idx], ans_stu_sent[ind[i]]])\n",
        "    else:\n",
        "      continue      \n",
        "  print(modifications)      \n",
        "\n",
        "\n",
        "\n",
        "  if modifications!=[]:\n",
        "    for i in modifications:\n",
        "      comb = i[5] + ' ' + i[4]\n",
        "      ans_stu_sent[i[3]] = comb\n",
        "      ans_stu_sent[i[1]] = ''  \n",
        "  else:\n",
        "    print('No possible combinations found.')\n",
        "\n",
        "  if modifications!=[]:\n",
        "    for idx, sentences in enumerate(ans_stu_sent):\n",
        "      if sentences=='':\n",
        "        ans_stu_sent.pop(idx)\n",
        "  else:\n",
        "    print('No modifications necessary!')      \n",
        "  \n",
        "  ########################\n",
        "\n",
        "  modifications2 = []\n",
        "  thresh = 0.45\n",
        "  ind = np.argmax(sim_mat, axis=1)\n",
        "  ind_trans = np.argmax(sim_mat_trans, axis=1)\n",
        "  print(ind_trans)\n",
        "  for i in range(len(ind_trans)):\n",
        "    similarity = sim_mat_trans[i][ind_trans[i]]\n",
        "    if similarity>=0.35:\n",
        "      new_similarity = similarity*thresh \n",
        "      for idx, j in enumerate(sim_mat_trans[i]):\n",
        "        if j>= new_similarity and j<similarity:\n",
        "          if j==sim_mat[idx][ind[idx]]:\n",
        "            modifications2.append([i, idx, j, ind_trans[i], ans_key_sent[idx], ans_key_sent[ind_trans[i]]])\n",
        "    else:\n",
        "      continue      \n",
        "  print(modifications2)      \n",
        "\n",
        "  \n",
        "\n",
        "  if modifications2!=[]:\n",
        "    for i in modifications2:\n",
        "      comb = i[5] + ' ' + i[4]\n",
        "      ans_key_sent[i[3]] = comb\n",
        "      ans_key_sent[i[1]] = ''  \n",
        "  else:\n",
        "    print('No possible combinations found.')\n",
        "\n",
        "  if modifications2!=[]:\n",
        "    for idx, sentences in enumerate(ans_key_sent):\n",
        "      if sentences=='':\n",
        "        ans_key_sent.pop(idx)\n",
        "  else:\n",
        "    print('No modifications necessary!')      \n",
        "\n",
        "  return ans_stu_sent, ans_key_sent\n",
        "\n",
        "\n",
        "\n",
        "# Denormalise Sentences\n",
        "\n",
        "def denormalise_sentences(ans_stu_sent, ans_stu_main, assigned_weights):\n",
        "  weights = {}\n",
        "  for i in range(len(ans_stu_main)):\n",
        "    for j in range(len(ans_stu_sent)):\n",
        "      if ans_stu_main[i] in ans_stu_sent[j]:\n",
        "        if len(ans_stu_main[i]) < len(ans_stu_sent[j]):  \n",
        "          n = check_num_sentences(ans_stu_sent[j])\n",
        "          weights[ans_stu_main[i]] = (assigned_weights[ans_stu_sent[j]])/n\n",
        "        else:\n",
        "          weights[ans_stu_main[i]] =  assigned_weights[ans_stu_sent[j]] \n",
        "\n",
        "  return weights      \n",
        "\n"
      ],
      "execution_count": null,
      "outputs": []
    },
    {
      "cell_type": "code",
      "metadata": {
        "id": "B4XB_MzZ2qmE",
        "colab_type": "code",
        "colab": {
          "base_uri": "https://localhost:8080/",
          "height": 118
        },
        "outputId": "0164d247-8322-4994-df99-a86de16a815e"
      },
      "source": [
        "# Split answer key and student answer into sentences.\n",
        "start_time = time.time()\n",
        "ans_key_sent = convert_answers_to_sentences(answerkey_3[0])\n",
        "ans_stu_sent = convert_answers_to_sentences(variation_9[0])\n",
        "ans_stu_sent = delete_erraneous_sentences(ans_stu_sent)\n",
        "ans_key_sent = delete_erraneous_sentences(ans_key_sent)\n",
        "\n",
        "print(ans_key_sent)\n",
        "print(ans_stu_sent)\n",
        "print(len(ans_key_sent))\n",
        "print(len(ans_stu_sent))\n",
        "\n",
        "# Get embeddings for student answer and answer key \n",
        "question_paper_embeddings = get_embeddings(ans_stu_sent)\n",
        "question_paper_embeddings = convert_eagertensor_to_ndarray(question_paper_embeddings)\n",
        "answer_key_embeddings = get_embeddings(ans_key_sent)\n",
        "answer_key_embeddings = convert_eagertensor_to_ndarray(answer_key_embeddings)\n",
        "\n",
        "\n",
        "# Get similarity matrix (answer key sentences -> compared with -> student answer sentences)\n",
        "sim_mat = get_similarity_matrix(question_paper_embeddings, answer_key_embeddings)\n",
        "\n",
        "# Get similarity matrix (student answer sentences -> compared with -> answer key sentence)\n",
        "sim_mat_trans = sim_mat.transpose()\n",
        "\n",
        "print(\"--- %s seconds ---\" % (time.time() - start_time))"
      ],
      "execution_count": null,
      "outputs": [
        {
          "output_type": "stream",
          "text": [
            "['Nationalist tensions .emerged in  .', 'the Balkans because of the .spread of ideas of.. romantic nationalism as also the disintegration of the Ottoman Empire that had previously ruled over this area.', 'The different Slavic communities in the Balkans began to strive for independent rule.', 'They were jealous of each other and every state wanted more territory, even at the expense of others.', 'Also, the hold of imperial power over the Balkans made the situation worse.', 'Russia, Germany, England, Austro-Hungary all wanted more control over this area.', 'These conflicts ultimately led to the First World War in 1914.']\n",
            "['It was a German National Assembly made upon middle class professionals businessmen artisans belonging to different German regiony.', 'It was convened on 18 may 1848 in the Church of St. Paul frankfurt The assembly was responsible for drafting constitution for Germany which for was two-headed by a monarchy ruler Be that as if may it confronted resistance from the privileged and military was additionally ruled by the middle class as a result of which it lost its mass support base andreas shut down.']\n",
            "7\n",
            "2\n",
            "--- 0.07511115074157715 seconds ---\n"
          ],
          "name": "stdout"
        }
      ]
    },
    {
      "cell_type": "code",
      "metadata": {
        "id": "0Jnp7ow02uo-",
        "colab_type": "code",
        "colab": {
          "base_uri": "https://localhost:8080/",
          "height": 135
        },
        "outputId": "53920ebb-406f-4300-efee-a9aa088e5b60"
      },
      "source": [
        "# Get normalised sentences\n",
        "ans_stu_main = list(ans_stu_sent)\n",
        "ans_stu_sent, ans_key_sent = normalise_sentences(ans_key_sent, ans_stu_sent, sim_mat, sim_mat_trans)\n",
        "question_paper_embeddings = get_embeddings(ans_stu_sent)\n",
        "question_paper_embeddings = convert_eagertensor_to_ndarray(question_paper_embeddings)\n",
        "answer_key_embeddings = get_embeddings(ans_key_sent)\n",
        "answer_key_embeddings = convert_eagertensor_to_ndarray(answer_key_embeddings)\n",
        "\n",
        "# Get similarity matrix (answer key sentences -> compared with -> student answer sentences)\n",
        "sim_mat = get_similarity_matrix(question_paper_embeddings, answer_key_embeddings)\n",
        "\n",
        "# Get similarity matrix (student answer sentences -> compared with -> answer key sentence)\n",
        "sim_mat_trans = sim_mat.transpose()"
      ],
      "execution_count": null,
      "outputs": [
        {
          "output_type": "stream",
          "text": [
            "[0 1 3 4]\n",
            "[]\n",
            "No possible combinations found.\n",
            "No modifications necessary!\n",
            "[0 1 3 4]\n",
            "[[1, 2, 0.4663936737822499, 1, 'They were jealous of each other and every state wanted more territory, even at the expense of others.', 'The different Slavic communities in the Balkans began to strive for independent rule.'], [3, 5, 0.509601714769388, 4, 'These conflicts ultimately led to the First World War in 1914.', 'Russia, Germany, England, Austro-Hungary all wanted more control over this area.']]\n"
          ],
          "name": "stdout"
        }
      ]
    },
    {
      "cell_type": "markdown",
      "metadata": {
        "id": "ohzdHG95HnBQ",
        "colab_type": "text"
      },
      "source": [
        "**Using the vector embeddings and similarity matrix from the above line of code, we will now generate a report which includes feedback**"
      ]
    },
    {
      "cell_type": "code",
      "metadata": {
        "id": "btkvsbi322Dr",
        "colab_type": "code",
        "colab": {}
      },
      "source": [
        "assigned_weights, ans_stu_sent, f = interpret_sim_mat_and_generate_report(sim_mat, sim_mat_trans)"
      ],
      "execution_count": null,
      "outputs": []
    },
    {
      "cell_type": "code",
      "metadata": {
        "id": "bhaYGtTwEBqs",
        "colab_type": "code",
        "colab": {}
      },
      "source": [
        "weights = denormalise_sentences(ans_stu_sent, ans_stu_main, assigned_weights)\n",
        "\n",
        "\n",
        "# To set each column cell to be just as big as it needs to be in order to fully display it's content.\n",
        "#pd.set_option('display.max_colwidth', 0)\n",
        "pd.options.display.max_colwidth = 50\n",
        "\n",
        "TOTAL_MARKS = 2.0\n",
        "marks_per_point = (TOTAL_MARKS)/len(ans_key_sent)\n",
        "\n",
        "\n",
        "df = pd.DataFrame(weights.items(), columns=[\"Student's Point\", 'Associated Weight'])\n",
        "df['Marks Awarded'] = df['Associated Weight']\n",
        "df['Marks Awarded'] *= marks_per_point\n",
        "df[\"Student's Point\"] = df[\"Student's Point\"].str.wrap(50)\n",
        "\n",
        "df.to_csv('/tmp/out.csv', index=False)\n",
        "\n",
        "print('Evaluated Score: ' , file=f)\n",
        "print(str(df['Marks Awarded'].sum()) + ' out of ' + str(TOTAL_MARKS), file=f)\n",
        "\n",
        "# Close stream to text file\n",
        "f.close()"
      ],
      "execution_count": null,
      "outputs": []
    },
    {
      "cell_type": "markdown",
      "metadata": {
        "id": "6AAGDsZPSHuP",
        "colab_type": "text"
      },
      "source": [
        "# **This section is dedicated to the generation of the report from the above obtained console outputs. This section is still under development, all the updates will be posted here for the readers' as well as the author's own reference.** \n",
        "\n",
        "**Update 12th March, 2020:** Completely working code with report generation ready. \n",
        "\n",
        "Report generation time (5 page): \n",
        "62 seconds (without GPU)\n",
        "\n",
        "**Update 25th March, 2020:** Added optimisations to boost the report generation time. \n",
        "\n",
        "Report generation time (5 page): \n",
        "2.7 seconds (without GPU)\n"
      ]
    },
    {
      "cell_type": "code",
      "metadata": {
        "id": "41pvq64Ohj6S",
        "colab_type": "code",
        "colab": {
          "base_uri": "https://localhost:8080/",
          "height": 32
        },
        "outputId": "07caa625-bf76-4ae8-eb28-908fd5542ec4"
      },
      "source": [
        "from fpdf import FPDF\n",
        "\n",
        "title = 'Feedback Report'\n",
        "\n",
        "class PDF(FPDF):\n",
        "    def header(self):\n",
        "        # Arial bold 15\n",
        "        self.set_font('Arial', 'B', 16)\n",
        "        # Calculate width of title and position\n",
        "        w = self.get_string_width(title) + 6\n",
        "        self.set_x((210 - w) / 2)\n",
        "        # Colors of frame, background and text\n",
        "        self.set_draw_color(0, 80, 180)\n",
        "        self.set_fill_color(230, 230, 0)\n",
        "        self.set_text_color(220, 50, 50)\n",
        "        # Thickness of frame (1 mm)\n",
        "        self.set_line_width(1)\n",
        "        # Title\n",
        "        self.cell(w, 9, title, 1, 1, 'C', 1)\n",
        "        # Line break\n",
        "        self.ln(10)\n",
        "\n",
        "    def footer(self):\n",
        "        # Position at 1.5 cm from bottom\n",
        "        self.set_y(-15)\n",
        "        # Arial italic 8\n",
        "        self.set_font('Arial', 'I', 8)\n",
        "        # Text color in gray\n",
        "        self.set_text_color(128)\n",
        "        # Page number\n",
        "        self.cell(0, 10, 'Page ' + str(self.page_no()), 0, 0, 'C')\n",
        "\n",
        "    def titles(self, num, label):\n",
        "        # Arial 12\n",
        "        self.set_font('Arial', '', 12)\n",
        "        # Background color\n",
        "        self.set_fill_color(200, 220, 255)\n",
        "        # Title\n",
        "        self.cell(0, 6, 'For Answer %d : %s' % (num, label), 0, 1, 'L', 1)\n",
        "        # Line break\n",
        "        self.ln(4)\n",
        "\n",
        "    def report_body(self, name):\n",
        "        # Read text file\n",
        "        with open(name, 'rb') as fh:\n",
        "            txt = fh.read().decode('latin-1')\n",
        "        # Times 12\n",
        "        self.set_font('Times', '', 12)\n",
        "        # Output justified text\n",
        "        self.multi_cell(0, 5, txt, border=1, align = 'J')\n",
        "        # Line break\n",
        "        self.ln()\n",
        "        # Line break\n",
        "        self.ln()\n",
        "        # Mention in italics\n",
        "        self.set_font('', 'I')\n",
        "        self.cell(0, 5, '(end of excerpt)')\n",
        "\n",
        "    def report_img(self, num, title, name):\n",
        "\n",
        "        self.add_page()\n",
        "        self.titles(num, title)\n",
        "        self.image(name, h=100,w=190, x=10, y=60, type=\"png\")\n",
        "        # Line break\n",
        "        self.ln()\n",
        "\n",
        "    def print_report(self, num, title, name):\n",
        "        self.add_page()\n",
        "        self.titles(num, title)\n",
        "        self.report_body(name)\n",
        "\n",
        "\n",
        "\n",
        "pdf = PDF()\n",
        "pdf.set_title(title)\n",
        "pdf.set_author('Bhargav Desai')\n",
        "pdf.print_report(1, 'ANALYSIS', '/tmp/output.txt')\n",
        "pdf.report_img(1, \"Marks Assignment Breakdown Per Point of the Student's Answer\",'/tmp/foo.png')\n",
        "pdf.output('/tmp/tuto3.pdf', 'F')"
      ],
      "execution_count": null,
      "outputs": [
        {
          "output_type": "execute_result",
          "data": {
            "text/plain": [
              "''"
            ]
          },
          "metadata": {
            "tags": []
          },
          "execution_count": 34
        }
      ]
    },
    {
      "cell_type": "code",
      "metadata": {
        "id": "8DkUiMWw3Ybx",
        "colab_type": "code",
        "colab": {
          "base_uri": "https://localhost:8080/",
          "height": 102
        },
        "outputId": "ee441013-9a26-446c-caa5-ff0e8c4c4df2"
      },
      "source": [
        "import pandas as pd\n",
        "import matplotlib.pyplot as plt\n",
        "from PIL import Image, ImageChops\n",
        "\n",
        "fig, ax = plt.subplots(dpi=75, constrained_layout=True)\n",
        "fig.patch.set_visible(False)\n",
        "ax.axis('off')\n",
        "ax.axis('tight')\n",
        "ax.table(cellText=df.values, colWidths = [1.0]*len(df.columns.values), colLabels=df.columns, cellLoc = 'center').scale(1, 5)\n",
        "                                                        \n",
        "fig.tight_layout()\n",
        "plt.savefig('/tmp/foo.png',bbox_inches='tight')  # Path to save the image\n",
        "plt.close()\n",
        "\n",
        "\n",
        "def trim(im):\n",
        "    bg = Image.new(im.mode, im.size, im.getpixel((0,0)))\n",
        "    diff = ImageChops.difference(im, bg)\n",
        "    diff = ImageChops.add(diff, diff, 2.0, -100)\n",
        "    bbox = diff.getbbox()\n",
        "    if bbox:\n",
        "        return im.crop(bbox)\n",
        "\n",
        "im = Image.open(\"/tmp/foo.png\")\n",
        "im = trim(im)\n",
        "im = im.convert('RGB')\n",
        "im.save(\"/tmp/foo.png\") "
      ],
      "execution_count": null,
      "outputs": [
        {
          "output_type": "stream",
          "text": [
            "/usr/local/lib/python3.6/dist-packages/ipykernel_launcher.py:11: UserWarning: Tight layout not applied. The left and right margins cannot be made large enough to accommodate all axes decorations. \n",
            "  # This is added back by InteractiveShellApp.init_path()\n",
            "/usr/local/lib/python3.6/dist-packages/ipykernel_launcher.py:12: UserWarning: constrained_layout not applied.  At least one axes collapsed to zero width or height.\n",
            "  if sys.path[0] == '':\n"
          ],
          "name": "stderr"
        }
      ]
    },
    {
      "cell_type": "code",
      "metadata": {
        "id": "z59wOwL0lViC",
        "colab_type": "code",
        "colab": {
          "base_uri": "https://localhost:8080/",
          "height": 82
        },
        "outputId": "67d54242-476c-4ddf-f97a-00dae1fb45f5"
      },
      "source": [
        "sim_mat"
      ],
      "execution_count": null,
      "outputs": [
        {
          "output_type": "execute_result",
          "data": {
            "text/plain": [
              "array([[0.87484391, 0.40950937, 0.50271733, 0.33813908],\n",
              "       [0.51287723, 0.72144274, 0.30947994, 0.32152879],\n",
              "       [0.44467748, 0.32708883, 0.91808748, 0.28324439],\n",
              "       [0.36141643, 0.32238718, 0.3022965 , 0.87905297]])"
            ]
          },
          "metadata": {
            "tags": []
          },
          "execution_count": 26
        }
      ]
    },
    {
      "cell_type": "code",
      "metadata": {
        "id": "6T7rDkoNlW2T",
        "colab_type": "code",
        "colab": {
          "base_uri": "https://localhost:8080/",
          "height": 102
        },
        "outputId": "2087b1ca-712c-4701-d81e-844fbeede3e5"
      },
      "source": [
        "ans_key_sent"
      ],
      "execution_count": null,
      "outputs": [
        {
          "output_type": "execute_result",
          "data": {
            "text/plain": [
              "['Nationalist tensions emerged in the Balkans because of the spread of ideas of romantic nationalism as also the disintegration of the Ottoman Empire that had previously ruled over this area.',\n",
              " 'The different Slavic communities in the Balkans began to strive for independent rule. They were jealous of each other and every state wanted more territory, even at the expense of others.',\n",
              " 'Also, the hold of imperial power over the Balkans made the situation worse.',\n",
              " 'Russia, Germany, England, Austro-Hungary all wanted more control over this area. These conflicts ultimately led to the First World War in 1914.']"
            ]
          },
          "metadata": {
            "tags": []
          },
          "execution_count": 27
        }
      ]
    },
    {
      "cell_type": "code",
      "metadata": {
        "id": "52HMHH25lrY6",
        "colab_type": "code",
        "colab": {
          "base_uri": "https://localhost:8080/",
          "height": 102
        },
        "outputId": "6ffc5c05-03d6-48dd-fd17-838c9ea5a7a6"
      },
      "source": [
        "ans_stu_sent"
      ],
      "execution_count": null,
      "outputs": [
        {
          "output_type": "execute_result",
          "data": {
            "text/plain": [
              "['Patriotic strains developed in the Balkans because of the spread of ideas of romantic nationalism as also the breaking down of the Ottoman Empire that had recently administered over this territory.',\n",
              " 'All the different Slavic communities in the Balkans werd envious of one another and cach state wanted more area.',\n",
              " 'Also, the hold of imperial power over the Balkans me worsened the situation.',\n",
              " 'Russia, Germany, England , Asustro-Hungary all wonted more control over this zone which brought about the first world war in 1914.']"
            ]
          },
          "metadata": {
            "tags": []
          },
          "execution_count": 28
        }
      ]
    },
    {
      "cell_type": "code",
      "metadata": {
        "id": "joXZ17RtltqO",
        "colab_type": "code",
        "colab": {
          "base_uri": "https://localhost:8080/",
          "height": 170
        },
        "outputId": "c3f261dd-2b3c-4068-9b6a-040c5a3f5bd4"
      },
      "source": [
        "df"
      ],
      "execution_count": null,
      "outputs": [
        {
          "output_type": "execute_result",
          "data": {
            "text/html": [
              "<div>\n",
              "<style scoped>\n",
              "    .dataframe tbody tr th:only-of-type {\n",
              "        vertical-align: middle;\n",
              "    }\n",
              "\n",
              "    .dataframe tbody tr th {\n",
              "        vertical-align: top;\n",
              "    }\n",
              "\n",
              "    .dataframe thead th {\n",
              "        text-align: right;\n",
              "    }\n",
              "</style>\n",
              "<table border=\"1\" class=\"dataframe\">\n",
              "  <thead>\n",
              "    <tr style=\"text-align: right;\">\n",
              "      <th></th>\n",
              "      <th>Student's Point</th>\n",
              "      <th>Associated Weight</th>\n",
              "      <th>Marks Awarded</th>\n",
              "    </tr>\n",
              "  </thead>\n",
              "  <tbody>\n",
              "    <tr>\n",
              "      <th>0</th>\n",
              "      <td>Patriotic strains developed in the Balkans bec...</td>\n",
              "      <td>1.0</td>\n",
              "      <td>0.5</td>\n",
              "    </tr>\n",
              "    <tr>\n",
              "      <th>1</th>\n",
              "      <td>All the different Slavic communities in the\\nB...</td>\n",
              "      <td>1.0</td>\n",
              "      <td>0.5</td>\n",
              "    </tr>\n",
              "    <tr>\n",
              "      <th>2</th>\n",
              "      <td>Also, the hold of imperial power over the Balk...</td>\n",
              "      <td>1.0</td>\n",
              "      <td>0.5</td>\n",
              "    </tr>\n",
              "    <tr>\n",
              "      <th>3</th>\n",
              "      <td>Russia, Germany, England , Asustro-Hungary all...</td>\n",
              "      <td>1.0</td>\n",
              "      <td>0.5</td>\n",
              "    </tr>\n",
              "  </tbody>\n",
              "</table>\n",
              "</div>"
            ],
            "text/plain": [
              "                                     Student's Point  ...  Marks Awarded\n",
              "0  Patriotic strains developed in the Balkans bec...  ...            0.5\n",
              "1  All the different Slavic communities in the\\nB...  ...            0.5\n",
              "2  Also, the hold of imperial power over the Balk...  ...            0.5\n",
              "3  Russia, Germany, England , Asustro-Hungary all...  ...            0.5\n",
              "\n",
              "[4 rows x 3 columns]"
            ]
          },
          "metadata": {
            "tags": []
          },
          "execution_count": 29
        }
      ]
    },
    {
      "cell_type": "code",
      "metadata": {
        "id": "Po1EHwRHl_ee",
        "colab_type": "code",
        "colab": {}
      },
      "source": [
        "df = pd.read_csv('/tmp/out.csv')"
      ],
      "execution_count": null,
      "outputs": []
    },
    {
      "cell_type": "code",
      "metadata": {
        "id": "7FLJJIK9btWf",
        "colab_type": "code",
        "colab": {
          "base_uri": "https://localhost:8080/",
          "height": 170
        },
        "outputId": "a6ae1d9b-7623-4c71-bf2c-d91a995e583d"
      },
      "source": [
        "df"
      ],
      "execution_count": null,
      "outputs": [
        {
          "output_type": "execute_result",
          "data": {
            "text/html": [
              "<div>\n",
              "<style scoped>\n",
              "    .dataframe tbody tr th:only-of-type {\n",
              "        vertical-align: middle;\n",
              "    }\n",
              "\n",
              "    .dataframe tbody tr th {\n",
              "        vertical-align: top;\n",
              "    }\n",
              "\n",
              "    .dataframe thead th {\n",
              "        text-align: right;\n",
              "    }\n",
              "</style>\n",
              "<table border=\"1\" class=\"dataframe\">\n",
              "  <thead>\n",
              "    <tr style=\"text-align: right;\">\n",
              "      <th></th>\n",
              "      <th>Student's Point</th>\n",
              "      <th>Associated Weight</th>\n",
              "      <th>Marks Awarded</th>\n",
              "    </tr>\n",
              "  </thead>\n",
              "  <tbody>\n",
              "    <tr>\n",
              "      <th>0</th>\n",
              "      <td>Patriotic strains developed in the Balkans bec...</td>\n",
              "      <td>1.0</td>\n",
              "      <td>0.5</td>\n",
              "    </tr>\n",
              "    <tr>\n",
              "      <th>1</th>\n",
              "      <td>All the different Slavic communities in the\\nB...</td>\n",
              "      <td>1.0</td>\n",
              "      <td>0.5</td>\n",
              "    </tr>\n",
              "    <tr>\n",
              "      <th>2</th>\n",
              "      <td>Also, the hold of imperial power over the Balk...</td>\n",
              "      <td>1.0</td>\n",
              "      <td>0.5</td>\n",
              "    </tr>\n",
              "    <tr>\n",
              "      <th>3</th>\n",
              "      <td>Russia, Germany, England , Asustro-Hungary all...</td>\n",
              "      <td>1.0</td>\n",
              "      <td>0.5</td>\n",
              "    </tr>\n",
              "  </tbody>\n",
              "</table>\n",
              "</div>"
            ],
            "text/plain": [
              "                                     Student's Point  ...  Marks Awarded\n",
              "0  Patriotic strains developed in the Balkans bec...  ...            0.5\n",
              "1  All the different Slavic communities in the\\nB...  ...            0.5\n",
              "2  Also, the hold of imperial power over the Balk...  ...            0.5\n",
              "3  Russia, Germany, England , Asustro-Hungary all...  ...            0.5\n",
              "\n",
              "[4 rows x 3 columns]"
            ]
          },
          "metadata": {
            "tags": []
          },
          "execution_count": 41
        }
      ]
    },
    {
      "cell_type": "code",
      "metadata": {
        "id": "wZmB7eBubt3L",
        "colab_type": "code",
        "colab": {}
      },
      "source": [
        "# Import nltk\n",
        "import nltk\n",
        "import spacy\n",
        "import string\n",
        "\n",
        "nlp = spacy.load(\"en_core_web_sm\")\n",
        "ans_stu_sent = convert_answers_to_sentences(v9[0])"
      ],
      "execution_count": null,
      "outputs": []
    },
    {
      "cell_type": "code",
      "metadata": {
        "id": "qKTCqzkyfyy7",
        "colab_type": "code",
        "colab": {
          "base_uri": "https://localhost:8080/",
          "height": 135
        },
        "outputId": "be5831cb-0c14-44c8-de42-7107d77f65ce"
      },
      "source": [
        "ans_stu_sent"
      ],
      "execution_count": null,
      "outputs": [
        {
          "output_type": "execute_result",
          "data": {
            "text/plain": [
              "['Two examples to show the contribution of culture to the growth of nationalism : A primary factor for the growth of nationalism in Europe was Romanticism Romanticism was a European culture.',\n",
              " \"movement aimed at developing national unity by creating a sense of shared heritage and common history The Romantic artist's emphasis on emotions intuition and mystical feelings gave shape and expression to nationalist feelings.\",\n",
              " '2.',\n",
              " 'Apart from romanticism language also played an important role in developing nationalist feeling in Europe.',\n",
              " 'For example during was seen as a symbol of struggle against russians during this period Polish language was forced out of schools and Russian was made compulsory everywhere Mony members of the clergy started refusing to preach in russian and used Polish for church gathtus.',\n",
              " 'This way there of Polish helped spread the ... message of national unity']"
            ]
          },
          "metadata": {
            "tags": []
          },
          "execution_count": 123
        }
      ]
    },
    {
      "cell_type": "code",
      "metadata": {
        "id": "Jpm52qKL_WF3",
        "colab_type": "code",
        "colab": {}
      },
      "source": [
        "def handle_abbreviations(sent):\n",
        "\n",
        "  # better solution for this to come\n",
        "\n",
        "  sent = sent.replace('St.', 'St')\n",
        "  sent = sent.replace('Mr.', 'Mr')\n",
        "  sent = sent.replace('Mrs.', 'Mrs')\n",
        "  sent = sent.replace('Dr.', 'Dr')\n",
        "  sent = sent.replace('Hon.', 'Hon')\n",
        "  sent = sent.replace('Ave.', 'Avenue')\n",
        "  sent = sent.replace('appx.', 'approx')\n",
        "  sent = sent.replace('dept.', 'department')\n",
        "  #sent.translate(str.maketrans('', '', string.punctuation))\n",
        "  \n",
        "\n",
        "  return sent\n",
        "\n",
        "def modify(idx_of_sent, idx_of_word_to_be_replaced, ans_stu_sent, count):\n",
        "\n",
        "  sent = handle_abbreviations(ans_stu_sent[idx_of_sent]).split()\n",
        "  word_at_idx_minus_one = sent[idx_of_word_to_be_replaced-1]\n",
        "  sent.remove(word_at_idx_minus_one)\n",
        "  sent.insert(idx_of_word_to_be_replaced-1, word_at_idx_minus_one+'.')\n",
        "  if len(' '.join(sent).split('.')[count-1].split())>=4:\n",
        "    ans_stu_sent[idx_of_sent] = ' '.join(sent)\n",
        "  else:\n",
        "    pass"
      ],
      "execution_count": null,
      "outputs": []
    },
    {
      "cell_type": "code",
      "metadata": {
        "id": "fo4uUhq6dW0m",
        "colab_type": "code",
        "colab": {}
      },
      "source": [
        "def aware_capitalisation(ans_stu_sent):\n",
        "  \n",
        "    for idx, sent in enumerate(ans_stu_sent):\n",
        "\n",
        "\n",
        "        candidates=[]\n",
        "        not_propernouns=[]\n",
        "        propernouns = []\n",
        "        print(sent)\n",
        "        doc = nlp(sent)\n",
        "        for token in doc:\n",
        "          if token.tag_ == 'NNP' or token.tag_ == 'NNPS':\n",
        "            propernouns.append(token.text)\n",
        "\n",
        "        print(propernouns)\n",
        "\n",
        "\n",
        "        for word in sent.split():\n",
        "    \n",
        "          if word[0].isupper() and word.translate(str.maketrans('', '', string.punctuation.replace('.', ''))) not in propernouns:\n",
        "                candidates.append(word)\n",
        "    \n",
        "        count=0\n",
        "\n",
        "        print(candidates)\n",
        "        words = sent.split()\n",
        "        for idx2, word in enumerate(words):\n",
        "                if word in candidates:\n",
        "                  if not idx2==0:\n",
        "                    count+=1\n",
        "                    modify(idx, idx2, ans_stu_sent, count)\n",
        "\n",
        "                \n",
        "    print(ans_stu_sent)      \n",
        "\n",
        "    return ' '.join(ans_stu_sent)"
      ],
      "execution_count": null,
      "outputs": []
    },
    {
      "cell_type": "code",
      "metadata": {
        "id": "gSMvBbflgPQr",
        "colab_type": "code",
        "colab": {
          "base_uri": "https://localhost:8080/",
          "height": 349
        },
        "outputId": "79e92f86-3d93-48eb-e804-8f4c8ec8a57f"
      },
      "source": [
        "mod = aware_capitalisation(ans_stu_sent)"
      ],
      "execution_count": null,
      "outputs": [
        {
          "output_type": "stream",
          "text": [
            "Two examples to show the contribution of culture to the growth of nationalism : A primary factor for the growth of nationalism in Europe was Romanticism Romanticism was a European culture.\n",
            "['Europe', 'Romanticism', 'Romanticism']\n",
            "['Two', 'A', 'European']\n",
            "movement aimed at developing national unity by creating a sense of shared heritage and common history The Romantic artist's emphasis on emotions intuition and mystical feelings gave shape and expression to nationalist feelings.\n",
            "[]\n",
            "['The', 'Romantic']\n",
            "2.\n",
            "[]\n",
            "[]\n",
            "Apart from romanticism language also played an important role in developing nationalist feeling in Europe.\n",
            "['Europe']\n",
            "['Apart', 'Europe.']\n",
            "For example during was seen as a symbol of struggle against russians during this period Polish language was forced out of schools and Russian was made compulsory everywhere Mony members of the clergy started refusing to preach in russian and used Polish for church gathtus.\n",
            "['russians', 'Russian', 'Mony', 'russian', 'Polish']\n",
            "['For']\n",
            "This way there of Polish helped spread the ... message of national unity\n",
            "['Polish']\n",
            "['This']\n",
            "['Two examples to show the contribution of culture to the growth of nationalism :. A primary factor for the growth of nationalism in Europe was Romanticism Romanticism was a. European culture.', \"movement aimed at developing national unity by creating a sense of shared heritage and common history. The Romantic artist's emphasis on emotions intuition and mystical feelings gave shape and expression to nationalist feelings.\", '2.', 'Apart from romanticism language also played an important role developing nationalist feeling in in. Europe.', 'For example during was seen as a symbol of struggle against russians during this period Polish language was forced out of schools and Russian was made compulsory everywhere Mony members of the clergy started refusing to preach in russian and used Polish for church gathtus.', 'This way there of Polish helped spread the ... message of national unity']\n"
          ],
          "name": "stdout"
        }
      ]
    },
    {
      "cell_type": "code",
      "metadata": {
        "id": "wjPVbEvBTHul",
        "colab_type": "code",
        "colab": {}
      },
      "source": [
        "ans_stu_sent = convert_answers_to_sentences(mod)"
      ],
      "execution_count": null,
      "outputs": []
    },
    {
      "cell_type": "code",
      "metadata": {
        "id": "3dKU_rBug_gH",
        "colab_type": "code",
        "colab": {
          "base_uri": "https://localhost:8080/",
          "height": 102
        },
        "outputId": "61d10bfd-b17b-462e-ec97-cb33d9047b66"
      },
      "source": [
        "ans_stu_sent"
      ],
      "execution_count": null,
      "outputs": [
        {
          "output_type": "execute_result",
          "data": {
            "text/plain": [
              "['It was a German National Assembly made upon middle class professionals businessmen artisans belonging to different German regiony.',\n",
              " 'It was convened on 18 may 1848 in the Church of St Paul frankfurt.',\n",
              " 'The assembly was responsible for drafting constitution for Germany which for was two-headed by a monarchy ruler.',\n",
              " 'Be that as if may it confronted resistance from the privileged and military was additionally ruled by the middle class as a result of which it lost its mass support base andreas shut down.']"
            ]
          },
          "metadata": {
            "tags": []
          },
          "execution_count": 116
        }
      ]
    },
    {
      "cell_type": "code",
      "metadata": {
        "id": "BCWNHY_khBCQ",
        "colab_type": "code",
        "colab": {
          "base_uri": "https://localhost:8080/",
          "height": 1000
        },
        "outputId": "32a075bb-f3f4-4999-c09d-638018b1cb19"
      },
      "source": [
        "doc = nlp('Patriotic strains developed in the Balkans because of the spread of ideas of romantic nationalism as also the breaking down ofthe Ottoman Empire that had recently administered over this territory All the different Slavic communities in the Balkans were envious of one another and each state wanted more area also threshold of imperial power over the Balkans he worsened the situation Russian Germany, England , bistro - Hungary all wonted more control over this zone which brought about the first world war in 1914')\n",
        "for token in doc:\n",
        "    print(token.tag_, token.lemma_)"
      ],
      "execution_count": null,
      "outputs": [
        {
          "output_type": "stream",
          "text": [
            "JJ patriotic\n",
            "NNS strain\n",
            "VBN develop\n",
            "IN in\n",
            "DT the\n",
            "NNPS Balkans\n",
            "IN because\n",
            "IN of\n",
            "DT the\n",
            "NN spread\n",
            "IN of\n",
            "NNS idea\n",
            "IN of\n",
            "JJ romantic\n",
            "NN nationalism\n",
            "RB as\n",
            "RB also\n",
            "DT the\n",
            "VBG break\n",
            "RP down\n",
            "DT ofthe\n",
            "NNP Ottoman\n",
            "NNP Empire\n",
            "WDT that\n",
            "VBD have\n",
            "RB recently\n",
            "VBN administer\n",
            "IN over\n",
            "DT this\n",
            "NN territory\n",
            "PDT all\n",
            "DT the\n",
            "JJ different\n",
            "JJ slavic\n",
            "NNS community\n",
            "IN in\n",
            "DT the\n",
            "NNPS Balkans\n",
            "VBD be\n",
            "JJ envious\n",
            "IN of\n",
            "NN one\n",
            "DT another\n",
            "CC and\n",
            "DT each\n",
            "NN state\n",
            "VBD want\n",
            "JJR more\n",
            "NN area\n",
            "RB also\n",
            "NN threshold\n",
            "IN of\n",
            "JJ imperial\n",
            "NN power\n",
            "IN over\n",
            "DT the\n",
            "NNPS Balkans\n",
            "PRP -PRON-\n",
            "VBD worsen\n",
            "DT the\n",
            "NN situation\n",
            "NNP Russian\n",
            "NNP Germany\n",
            ", ,\n",
            "NNP England\n",
            ", ,\n",
            "NNP bistro\n",
            "HYPH -\n",
            "NNP Hungary\n",
            "DT all\n",
            "VBD wonte\n",
            "JJR more\n",
            "NN control\n",
            "IN over\n",
            "DT this\n",
            "NN zone\n",
            "WDT which\n",
            "VBD bring\n",
            "RP about\n",
            "DT the\n",
            "JJ first\n",
            "NN world\n",
            "NN war\n",
            "IN in\n",
            "CD 1914\n"
          ],
          "name": "stdout"
        }
      ]
    },
    {
      "cell_type": "code",
      "metadata": {
        "id": "oivBx0dtJFWI",
        "colab_type": "code",
        "colab": {
          "base_uri": "https://localhost:8080/",
          "height": 32
        },
        "outputId": "fef6896a-ea49-4157-b0cb-53d0381ce85f"
      },
      "source": [
        "import string \n",
        "\n",
        "s = 'Germany,'\n",
        "s.translate(str.maketrans('', '', string.punctuation))"
      ],
      "execution_count": null,
      "outputs": [
        {
          "output_type": "execute_result",
          "data": {
            "text/plain": [
              "'Germany'"
            ]
          },
          "metadata": {
            "tags": []
          },
          "execution_count": 30
        }
      ]
    },
    {
      "cell_type": "code",
      "metadata": {
        "id": "eu4_v-9KKoeb",
        "colab_type": "code",
        "colab": {
          "base_uri": "https://localhost:8080/",
          "height": 158
        },
        "outputId": "44feaea5-7956-42c1-8280-d89fb80e4c97"
      },
      "source": [
        "s.translate(None, string.punctuation)"
      ],
      "execution_count": null,
      "outputs": [
        {
          "output_type": "error",
          "ename": "NameError",
          "evalue": "ignored",
          "traceback": [
            "\u001b[0;31m---------------------------------------------------------------------------\u001b[0m",
            "\u001b[0;31mNameError\u001b[0m                                 Traceback (most recent call last)",
            "\u001b[0;32m<ipython-input-18-bbd6ebfb642a>\u001b[0m in \u001b[0;36m<module>\u001b[0;34m()\u001b[0m\n\u001b[0;32m----> 1\u001b[0;31m \u001b[0ms\u001b[0m\u001b[0;34m.\u001b[0m\u001b[0mtranslate\u001b[0m\u001b[0;34m(\u001b[0m\u001b[0;32mNone\u001b[0m\u001b[0;34m,\u001b[0m \u001b[0mstring\u001b[0m\u001b[0;34m.\u001b[0m\u001b[0mpunctuation\u001b[0m\u001b[0;34m)\u001b[0m\u001b[0;34m\u001b[0m\u001b[0;34m\u001b[0m\u001b[0m\n\u001b[0m",
            "\u001b[0;31mNameError\u001b[0m: name 'string' is not defined"
          ]
        }
      ]
    },
    {
      "cell_type": "code",
      "metadata": {
        "id": "Lhue9zRRK-US",
        "colab_type": "code",
        "colab": {
          "base_uri": "https://localhost:8080/",
          "height": 52
        },
        "outputId": "a35fbfda-4299-43db-ad0b-0f883e04d9af"
      },
      "source": [
        "s"
      ],
      "execution_count": null,
      "outputs": [
        {
          "output_type": "execute_result",
          "data": {
            "text/plain": [
              "'Patriotic strains developed in the Balkans because of the spread of ideas of romantic nationalism as also the breaking down ofthe Ottoman Empire that had recently administered over this territory All the different Slavic communities in the Balkans were envious of one another and each state wanted more area also threshold of imperial power over the Balkans he worsened the situation russian Germany, England , bistro - Hungary all wonted more control over this zone which brought about the first world war in 1914'"
            ]
          },
          "metadata": {
            "tags": []
          },
          "execution_count": 23
        }
      ]
    },
    {
      "cell_type": "code",
      "metadata": {
        "id": "_q3WdQkQLdO-",
        "colab_type": "code",
        "colab": {
          "base_uri": "https://localhost:8080/",
          "height": 32
        },
        "outputId": "9748ea22-76ae-49de-d69c-5afbc66c9fe5"
      },
      "source": [
        "string.punctuation.replace('.', '')"
      ],
      "execution_count": null,
      "outputs": [
        {
          "output_type": "execute_result",
          "data": {
            "text/plain": [
              "'!\"#$%&\\'()*+,-/:;<=>?@[\\\\]^_`{|}~'"
            ]
          },
          "metadata": {
            "tags": []
          },
          "execution_count": 104
        }
      ]
    },
    {
      "cell_type": "code",
      "metadata": {
        "id": "LXYWHBcuUZGh",
        "colab_type": "code",
        "colab": {}
      },
      "source": [
        ""
      ],
      "execution_count": null,
      "outputs": []
    }
  ]
}